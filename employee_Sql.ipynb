{
  "nbformat": 4,
  "nbformat_minor": 0,
  "metadata": {
    "colab": {
      "provenance": []
    },
    "kernelspec": {
      "name": "python3",
      "display_name": "Python 3"
    },
    "language_info": {
      "name": "python"
    }
  },
  "cells": [
    {
      "cell_type": "code",
      "source": [
        "from google.colab import files\n",
        "\n",
        "# Upload CSV files\n",
        "uploaded = files.upload()\n"
      ],
      "metadata": {
        "colab": {
          "base_uri": "https://localhost:8080/",
          "height": 250
        },
        "id": "UvNcxir9QG0w",
        "outputId": "f690c05a-dc2e-4603-fb77-3987f6e660d1"
      },
      "execution_count": 2,
      "outputs": [
        {
          "output_type": "display_data",
          "data": {
            "text/plain": [
              "<IPython.core.display.HTML object>"
            ],
            "text/html": [
              "\n",
              "     <input type=\"file\" id=\"files-1b020ac9-6a2c-4758-87c6-e3e8937e2411\" name=\"files[]\" multiple disabled\n",
              "        style=\"border:none\" />\n",
              "     <output id=\"result-1b020ac9-6a2c-4758-87c6-e3e8937e2411\">\n",
              "      Upload widget is only available when the cell has been executed in the\n",
              "      current browser session. Please rerun this cell to enable.\n",
              "      </output>\n",
              "      <script>// Copyright 2017 Google LLC\n",
              "//\n",
              "// Licensed under the Apache License, Version 2.0 (the \"License\");\n",
              "// you may not use this file except in compliance with the License.\n",
              "// You may obtain a copy of the License at\n",
              "//\n",
              "//      http://www.apache.org/licenses/LICENSE-2.0\n",
              "//\n",
              "// Unless required by applicable law or agreed to in writing, software\n",
              "// distributed under the License is distributed on an \"AS IS\" BASIS,\n",
              "// WITHOUT WARRANTIES OR CONDITIONS OF ANY KIND, either express or implied.\n",
              "// See the License for the specific language governing permissions and\n",
              "// limitations under the License.\n",
              "\n",
              "/**\n",
              " * @fileoverview Helpers for google.colab Python module.\n",
              " */\n",
              "(function(scope) {\n",
              "function span(text, styleAttributes = {}) {\n",
              "  const element = document.createElement('span');\n",
              "  element.textContent = text;\n",
              "  for (const key of Object.keys(styleAttributes)) {\n",
              "    element.style[key] = styleAttributes[key];\n",
              "  }\n",
              "  return element;\n",
              "}\n",
              "\n",
              "// Max number of bytes which will be uploaded at a time.\n",
              "const MAX_PAYLOAD_SIZE = 100 * 1024;\n",
              "\n",
              "function _uploadFiles(inputId, outputId) {\n",
              "  const steps = uploadFilesStep(inputId, outputId);\n",
              "  const outputElement = document.getElementById(outputId);\n",
              "  // Cache steps on the outputElement to make it available for the next call\n",
              "  // to uploadFilesContinue from Python.\n",
              "  outputElement.steps = steps;\n",
              "\n",
              "  return _uploadFilesContinue(outputId);\n",
              "}\n",
              "\n",
              "// This is roughly an async generator (not supported in the browser yet),\n",
              "// where there are multiple asynchronous steps and the Python side is going\n",
              "// to poll for completion of each step.\n",
              "// This uses a Promise to block the python side on completion of each step,\n",
              "// then passes the result of the previous step as the input to the next step.\n",
              "function _uploadFilesContinue(outputId) {\n",
              "  const outputElement = document.getElementById(outputId);\n",
              "  const steps = outputElement.steps;\n",
              "\n",
              "  const next = steps.next(outputElement.lastPromiseValue);\n",
              "  return Promise.resolve(next.value.promise).then((value) => {\n",
              "    // Cache the last promise value to make it available to the next\n",
              "    // step of the generator.\n",
              "    outputElement.lastPromiseValue = value;\n",
              "    return next.value.response;\n",
              "  });\n",
              "}\n",
              "\n",
              "/**\n",
              " * Generator function which is called between each async step of the upload\n",
              " * process.\n",
              " * @param {string} inputId Element ID of the input file picker element.\n",
              " * @param {string} outputId Element ID of the output display.\n",
              " * @return {!Iterable<!Object>} Iterable of next steps.\n",
              " */\n",
              "function* uploadFilesStep(inputId, outputId) {\n",
              "  const inputElement = document.getElementById(inputId);\n",
              "  inputElement.disabled = false;\n",
              "\n",
              "  const outputElement = document.getElementById(outputId);\n",
              "  outputElement.innerHTML = '';\n",
              "\n",
              "  const pickedPromise = new Promise((resolve) => {\n",
              "    inputElement.addEventListener('change', (e) => {\n",
              "      resolve(e.target.files);\n",
              "    });\n",
              "  });\n",
              "\n",
              "  const cancel = document.createElement('button');\n",
              "  inputElement.parentElement.appendChild(cancel);\n",
              "  cancel.textContent = 'Cancel upload';\n",
              "  const cancelPromise = new Promise((resolve) => {\n",
              "    cancel.onclick = () => {\n",
              "      resolve(null);\n",
              "    };\n",
              "  });\n",
              "\n",
              "  // Wait for the user to pick the files.\n",
              "  const files = yield {\n",
              "    promise: Promise.race([pickedPromise, cancelPromise]),\n",
              "    response: {\n",
              "      action: 'starting',\n",
              "    }\n",
              "  };\n",
              "\n",
              "  cancel.remove();\n",
              "\n",
              "  // Disable the input element since further picks are not allowed.\n",
              "  inputElement.disabled = true;\n",
              "\n",
              "  if (!files) {\n",
              "    return {\n",
              "      response: {\n",
              "        action: 'complete',\n",
              "      }\n",
              "    };\n",
              "  }\n",
              "\n",
              "  for (const file of files) {\n",
              "    const li = document.createElement('li');\n",
              "    li.append(span(file.name, {fontWeight: 'bold'}));\n",
              "    li.append(span(\n",
              "        `(${file.type || 'n/a'}) - ${file.size} bytes, ` +\n",
              "        `last modified: ${\n",
              "            file.lastModifiedDate ? file.lastModifiedDate.toLocaleDateString() :\n",
              "                                    'n/a'} - `));\n",
              "    const percent = span('0% done');\n",
              "    li.appendChild(percent);\n",
              "\n",
              "    outputElement.appendChild(li);\n",
              "\n",
              "    const fileDataPromise = new Promise((resolve) => {\n",
              "      const reader = new FileReader();\n",
              "      reader.onload = (e) => {\n",
              "        resolve(e.target.result);\n",
              "      };\n",
              "      reader.readAsArrayBuffer(file);\n",
              "    });\n",
              "    // Wait for the data to be ready.\n",
              "    let fileData = yield {\n",
              "      promise: fileDataPromise,\n",
              "      response: {\n",
              "        action: 'continue',\n",
              "      }\n",
              "    };\n",
              "\n",
              "    // Use a chunked sending to avoid message size limits. See b/62115660.\n",
              "    let position = 0;\n",
              "    do {\n",
              "      const length = Math.min(fileData.byteLength - position, MAX_PAYLOAD_SIZE);\n",
              "      const chunk = new Uint8Array(fileData, position, length);\n",
              "      position += length;\n",
              "\n",
              "      const base64 = btoa(String.fromCharCode.apply(null, chunk));\n",
              "      yield {\n",
              "        response: {\n",
              "          action: 'append',\n",
              "          file: file.name,\n",
              "          data: base64,\n",
              "        },\n",
              "      };\n",
              "\n",
              "      let percentDone = fileData.byteLength === 0 ?\n",
              "          100 :\n",
              "          Math.round((position / fileData.byteLength) * 100);\n",
              "      percent.textContent = `${percentDone}% done`;\n",
              "\n",
              "    } while (position < fileData.byteLength);\n",
              "  }\n",
              "\n",
              "  // All done.\n",
              "  yield {\n",
              "    response: {\n",
              "      action: 'complete',\n",
              "    }\n",
              "  };\n",
              "}\n",
              "\n",
              "scope.google = scope.google || {};\n",
              "scope.google.colab = scope.google.colab || {};\n",
              "scope.google.colab._files = {\n",
              "  _uploadFiles,\n",
              "  _uploadFilesContinue,\n",
              "};\n",
              "})(self);\n",
              "</script> "
            ]
          },
          "metadata": {}
        },
        {
          "output_type": "stream",
          "name": "stdout",
          "text": [
            "Saving departments.csv to departments.csv\n",
            "Saving dept_emp.csv to dept_emp.csv\n",
            "Saving dept_manager.csv to dept_manager.csv\n",
            "Saving employees.csv to employees.csv\n",
            "Saving salaries.csv to salaries.csv\n",
            "Saving titles.csv to titles.csv\n"
          ]
        }
      ]
    },
    {
      "cell_type": "code",
      "source": [
        "import pandas as pd\n",
        "import sqlite3\n",
        "\n",
        "# Read CSV files\n",
        "df_departments = pd.read_csv('departments.csv')\n",
        "df_dept_emp = pd.read_csv('dept_emp.csv')\n",
        "df_dept_manager = pd.read_csv('dept_manager.csv')\n",
        "df_employees = pd.read_csv('employees.csv')\n",
        "df_salaries = pd.read_csv('salaries.csv')\n",
        "df_titles = pd.read_csv('titles.csv')\n",
        "\n",
        "# Create a SQLite database in memory\n",
        "conn = sqlite3.connect(':memory:')\n",
        "\n",
        "# Alternatively, create a SQLite database on disk\n",
        "# conn = sqlite3.connect('mydatabase.db')\n",
        "\n",
        "# Write the DataFrames to SQLite tables\n",
        "df_departments.to_sql('departments', conn, index=False)\n",
        "df_dept_emp.to_sql('dept_emp', conn, index=False)\n",
        "df_dept_manager.to_sql('dept_manager', conn, index=False)\n",
        "df_employees.to_sql('employees', conn, index=False)\n",
        "df_salaries.to_sql('salaries', conn, index=False)\n",
        "df_titles.to_sql('titles', conn, index=False)\n",
        "\n",
        "# Execute SQL queries and retrieve results as DataFrames\n",
        "query = \"SELECT * FROM employees\"\n",
        "result = pd.read_sql_query(query, conn)\n",
        "print(result)\n"
      ],
      "metadata": {
        "colab": {
          "base_uri": "https://localhost:8080/"
        },
        "id": "ubiB7849R46n",
        "outputId": "371a1ca0-7ab0-4556-f5b8-aba8a3df2368"
      },
      "execution_count": 6,
      "outputs": [
        {
          "output_type": "stream",
          "name": "stdout",
          "text": [
            "        emp_no emp_title_id  birth_date   first_name  last_name sex  \\\n",
            "0       473302        s0001   7/25/1953     Hideyuki   Zallocco   M   \n",
            "1       475053        e0002  11/18/1954        Byong  Delgrande   F   \n",
            "2        57444        e0002   1/30/1958        Berry       Babb   F   \n",
            "3       421786        s0001   9/28/1957        Xiong   Verhoeff   M   \n",
            "4       282238        e0003  10/28/1952   Abdelkader    Baumann   F   \n",
            "...        ...          ...         ...          ...        ...  ..   \n",
            "300019  464231        s0001   8/14/1958  Constantino    Eastman   M   \n",
            "300020  255832        e0002    5/8/1955       Yuping     Dayang   F   \n",
            "300021   76671        s0001    6/9/1959       Ortrud   Plessier   M   \n",
            "300022  264920        s0001   9/22/1959        Percy   Samarati   F   \n",
            "300023  464503        s0002   5/31/1964       Arvind  Slobodova   M   \n",
            "\n",
            "         hire_date  \n",
            "0        4/28/1990  \n",
            "1         9/7/1991  \n",
            "2        3/21/1992  \n",
            "3       11/26/1987  \n",
            "4        1/18/1991  \n",
            "...            ...  \n",
            "300019  10/28/1988  \n",
            "300020   2/26/1995  \n",
            "300021   2/24/1988  \n",
            "300022    9/8/1994  \n",
            "300023  11/23/1987  \n",
            "\n",
            "[300024 rows x 7 columns]\n"
          ]
        }
      ]
    },
    {
      "cell_type": "code",
      "source": [
        "import pandas as pd\n",
        "import sqlite3\n"
      ],
      "metadata": {
        "id": "apsE_qyRVMSQ"
      },
      "execution_count": 13,
      "outputs": []
    },
    {
      "cell_type": "code",
      "source": [
        "df_departments = pd.read_csv('departments.csv')\n",
        "df_dept_emp = pd.read_csv('dept_emp.csv')\n",
        "df_dept_manager = pd.read_csv('dept_manager.csv')\n",
        "df_employees = pd.read_csv('employees.csv')\n",
        "df_salaries = pd.read_csv('salaries.csv')\n",
        "df_titles = pd.read_csv('titles.csv')\n"
      ],
      "metadata": {
        "id": "xMsy0vzZVQu-"
      },
      "execution_count": 14,
      "outputs": []
    },
    {
      "cell_type": "code",
      "source": [
        "conn = sqlite3.connect(':memory:')\n"
      ],
      "metadata": {
        "id": "0nQqP8_KVVfJ"
      },
      "execution_count": 15,
      "outputs": []
    },
    {
      "cell_type": "code",
      "source": [
        "conn = sqlite3.connect('mydatabase.db')\n"
      ],
      "metadata": {
        "id": "pCPLBhXwVZbF"
      },
      "execution_count": 16,
      "outputs": []
    },
    {
      "cell_type": "code",
      "source": [
        "df_departments.to_sql('departments', conn, index=False)\n",
        "df_dept_emp.to_sql('dept_emp', conn, index=False)\n",
        "df_dept_manager.to_sql('dept_manager', conn, index=False)\n",
        "df_employees.to_sql('employees', conn, index=False)\n",
        "df_salaries.to_sql('salaries', conn, index=False)\n",
        "df_titles.to_sql('titles', conn, index=False)\n"
      ],
      "metadata": {
        "colab": {
          "base_uri": "https://localhost:8080/"
        },
        "id": "p4zbDDiFVd77",
        "outputId": "b0b997a5-0a81-4184-c029-2941c31f6b74"
      },
      "execution_count": 17,
      "outputs": [
        {
          "output_type": "execute_result",
          "data": {
            "text/plain": [
              "7"
            ]
          },
          "metadata": {},
          "execution_count": 17
        }
      ]
    }
  ]
}